{
  "cells": [
    {
      "cell_type": "markdown",
      "source": [
        "## Forecasting Test Inspired by Siami-Namini et al. (2018)\n",
        "\n",
        "This notebook contains a forecasting test inspired by the study A Comparison of ARIMA and LSTM in Forecasting Time Series by Siami-Namini et al. The test expands on their work by including GRU (Gated Recurrent Unit) alongside ARIMA and LSTM models.\n",
        "\n",
        "Both **weekly** and **monthly** time series data are used to evaluate and compare model performance based on predictive accuracy.\n"
      ],
      "metadata": {
        "id": "SRHl1dQEKpKh"
      }
    },
    {
      "cell_type": "markdown",
      "source": [
        "# Weekly"
      ],
      "metadata": {
        "id": "6T-GdndJBiIm"
      }
    },
    {
      "cell_type": "code",
      "source": [
        "!pip install yfinance pmdarima"
      ],
      "metadata": {
        "colab": {
          "base_uri": "https://localhost:8080/"
        },
        "id": "JPXOtnuReRSA",
        "outputId": "fee09b39-7c36-446e-b9a0-f304ebe9feee"
      },
      "execution_count": null,
      "outputs": [
        {
          "output_type": "stream",
          "name": "stdout",
          "text": [
            "Requirement already satisfied: yfinance in /usr/local/lib/python3.11/dist-packages (0.2.61)\n",
            "Requirement already satisfied: pmdarima in /usr/local/lib/python3.11/dist-packages (2.0.4)\n",
            "Requirement already satisfied: pandas>=1.3.0 in /usr/local/lib/python3.11/dist-packages (from yfinance) (2.2.2)\n",
            "Requirement already satisfied: numpy>=1.16.5 in /usr/local/lib/python3.11/dist-packages (from yfinance) (2.0.2)\n",
            "Requirement already satisfied: requests>=2.31 in /usr/local/lib/python3.11/dist-packages (from yfinance) (2.32.3)\n",
            "Requirement already satisfied: multitasking>=0.0.7 in /usr/local/lib/python3.11/dist-packages (from yfinance) (0.0.11)\n",
            "Requirement already satisfied: platformdirs>=2.0.0 in /usr/local/lib/python3.11/dist-packages (from yfinance) (4.3.8)\n",
            "Requirement already satisfied: pytz>=2022.5 in /usr/local/lib/python3.11/dist-packages (from yfinance) (2025.2)\n",
            "Requirement already satisfied: frozendict>=2.3.4 in /usr/local/lib/python3.11/dist-packages (from yfinance) (2.4.6)\n",
            "Requirement already satisfied: peewee>=3.16.2 in /usr/local/lib/python3.11/dist-packages (from yfinance) (3.18.1)\n",
            "Requirement already satisfied: beautifulsoup4>=4.11.1 in /usr/local/lib/python3.11/dist-packages (from yfinance) (4.13.4)\n",
            "Requirement already satisfied: curl_cffi>=0.7 in /usr/local/lib/python3.11/dist-packages (from yfinance) (0.11.1)\n",
            "Requirement already satisfied: protobuf>=3.19.0 in /usr/local/lib/python3.11/dist-packages (from yfinance) (5.29.5)\n",
            "Requirement already satisfied: websockets>=13.0 in /usr/local/lib/python3.11/dist-packages (from yfinance) (15.0.1)\n",
            "Requirement already satisfied: joblib>=0.11 in /usr/local/lib/python3.11/dist-packages (from pmdarima) (1.5.1)\n",
            "Requirement already satisfied: Cython!=0.29.18,!=0.29.31,>=0.29 in /usr/local/lib/python3.11/dist-packages (from pmdarima) (3.0.12)\n",
            "Requirement already satisfied: scikit-learn>=0.22 in /usr/local/lib/python3.11/dist-packages (from pmdarima) (1.6.1)\n",
            "Requirement already satisfied: scipy>=1.3.2 in /usr/local/lib/python3.11/dist-packages (from pmdarima) (1.15.3)\n",
            "Requirement already satisfied: statsmodels>=0.13.2 in /usr/local/lib/python3.11/dist-packages (from pmdarima) (0.14.4)\n",
            "Requirement already satisfied: urllib3 in /usr/local/lib/python3.11/dist-packages (from pmdarima) (2.4.0)\n",
            "Requirement already satisfied: setuptools!=50.0.0,>=38.6.0 in /usr/local/lib/python3.11/dist-packages (from pmdarima) (75.2.0)\n",
            "Requirement already satisfied: packaging>=17.1 in /usr/local/lib/python3.11/dist-packages (from pmdarima) (24.2)\n",
            "Requirement already satisfied: soupsieve>1.2 in /usr/local/lib/python3.11/dist-packages (from beautifulsoup4>=4.11.1->yfinance) (2.7)\n",
            "Requirement already satisfied: typing-extensions>=4.0.0 in /usr/local/lib/python3.11/dist-packages (from beautifulsoup4>=4.11.1->yfinance) (4.14.0)\n",
            "Requirement already satisfied: cffi>=1.12.0 in /usr/local/lib/python3.11/dist-packages (from curl_cffi>=0.7->yfinance) (1.17.1)\n",
            "Requirement already satisfied: certifi>=2024.2.2 in /usr/local/lib/python3.11/dist-packages (from curl_cffi>=0.7->yfinance) (2025.4.26)\n",
            "Requirement already satisfied: python-dateutil>=2.8.2 in /usr/local/lib/python3.11/dist-packages (from pandas>=1.3.0->yfinance) (2.9.0.post0)\n",
            "Requirement already satisfied: tzdata>=2022.7 in /usr/local/lib/python3.11/dist-packages (from pandas>=1.3.0->yfinance) (2025.2)\n",
            "Requirement already satisfied: charset-normalizer<4,>=2 in /usr/local/lib/python3.11/dist-packages (from requests>=2.31->yfinance) (3.4.2)\n",
            "Requirement already satisfied: idna<4,>=2.5 in /usr/local/lib/python3.11/dist-packages (from requests>=2.31->yfinance) (3.10)\n",
            "Requirement already satisfied: threadpoolctl>=3.1.0 in /usr/local/lib/python3.11/dist-packages (from scikit-learn>=0.22->pmdarima) (3.6.0)\n",
            "Requirement already satisfied: patsy>=0.5.6 in /usr/local/lib/python3.11/dist-packages (from statsmodels>=0.13.2->pmdarima) (1.0.1)\n",
            "Requirement already satisfied: pycparser in /usr/local/lib/python3.11/dist-packages (from cffi>=1.12.0->curl_cffi>=0.7->yfinance) (2.22)\n",
            "Requirement already satisfied: six>=1.5 in /usr/local/lib/python3.11/dist-packages (from python-dateutil>=2.8.2->pandas>=1.3.0->yfinance) (1.17.0)\n"
          ]
        }
      ]
    },
    {
      "cell_type": "markdown",
      "source": [
        "### Data import + Assumption tests\n",
        "\n"
      ],
      "metadata": {
        "id": "vp-3Xl5OLL2x"
      }
    },
    {
      "cell_type": "code",
      "source": [
        "import yfinance as yf\n",
        "import statsmodels.api as sm\n",
        "import numpy as np\n",
        "import pandas as pd\n",
        "from statsmodels.tsa.stattools import adfuller, acf, q_stat\n",
        "from statsmodels.stats.diagnostic import acorr_ljungbox\n",
        "from scipy.stats import shapiro, jarque_bera\n",
        "import warnings\n",
        "warnings.filterwarnings(\"ignore\")\n",
        "\n",
        "# --- Load Data ---\n",
        "tickers = ['AAPL', 'JNJ', 'JPM', 'BA', '^DJI']\n",
        "start_date = '2015-01-01'\n",
        "end_date = '2025-01-01'\n",
        "\n",
        "def load_data(ticker):\n",
        "    df = yf.download(ticker, start=start_date, end=end_date, interval='1wk')\n",
        "    returns = np.log(df['Close']).diff().dropna()\n",
        "    return returns\n",
        "\n",
        "data = {ticker: load_data(ticker) for ticker in tickers}\n",
        "\n",
        "# --- Diagnostic Tests ---\n",
        "for ticker, series in data.items():\n",
        "    print(f\"\\n📈 {ticker}\")\n",
        "\n",
        "    # Linearity check\n",
        "    X = sm.add_constant(series.shift(1).dropna())\n",
        "    y = series[1:]\n",
        "    model = sm.OLS(y, X).fit()\n",
        "    residuals = model.resid\n",
        "\n",
        "    # Stationarity (ADF test)\n",
        "    adf_pvalue = adfuller(series)[1]\n",
        "\n",
        "    # White noise (Ljung-Box on residuals)\n",
        "    lb_pvalue = acorr_ljungbox(residuals, lags=[10], return_df=True)['lb_pvalue'].iloc[0]\n",
        "\n",
        "    # Normality\n",
        "    shapiro_p = shapiro(residuals)[1]\n",
        "    jb_p = jarque_bera(residuals)[1]\n",
        "\n",
        "    print(f\" - ADF (Stationarity) p-value: {adf_pvalue:.4f} → {'Stationary' if adf_pvalue < 0.05 else 'Non-stationary'}\")\n",
        "    print(f\" - Ljung-Box (White Noise) p-value: {lb_pvalue:.4f} → {'White noise' if lb_pvalue > 0.05 else 'Not white noise'}\")\n",
        "    print(f\" - Shapiro-Wilk Normality p-value: {shapiro_p:.4f} → {'Normal' if shapiro_p > 0.05 else 'Not normal'}\")\n",
        "    print(f\" - Jarque-Bera Normality p-value: {jb_p:.4f} → {'Normal' if jb_p > 0.05 else 'Not normal'}\")\n",
        "\n",
        "\n"
      ],
      "metadata": {
        "colab": {
          "base_uri": "https://localhost:8080/"
        },
        "id": "sI7hZb_s8L7v",
        "outputId": "4becbb3a-2841-4b59-df8b-6df6c52d9f9f"
      },
      "execution_count": null,
      "outputs": [
        {
          "output_type": "stream",
          "name": "stderr",
          "text": [
            "[*********************100%***********************]  1 of 1 completed\n",
            "[*********************100%***********************]  1 of 1 completed\n",
            "[*********************100%***********************]  1 of 1 completed\n",
            "[*********************100%***********************]  1 of 1 completed\n",
            "[*********************100%***********************]  1 of 1 completed\n"
          ]
        },
        {
          "output_type": "stream",
          "name": "stdout",
          "text": [
            "\n",
            "📈 AAPL\n",
            " - ADF (Stationarity) p-value: 0.0000 → Stationary\n",
            " - Ljung-Box (White Noise) p-value: 0.8661 → White noise\n",
            " - Shapiro-Wilk Normality p-value: 0.0000 → Not normal\n",
            " - Jarque-Bera Normality p-value: 0.0000 → Not normal\n",
            "\n",
            "📈 JNJ\n",
            " - ADF (Stationarity) p-value: 0.0000 → Stationary\n",
            " - Ljung-Box (White Noise) p-value: 0.8118 → White noise\n",
            " - Shapiro-Wilk Normality p-value: 0.0000 → Not normal\n",
            " - Jarque-Bera Normality p-value: 0.0000 → Not normal\n",
            "\n",
            "📈 JPM\n",
            " - ADF (Stationarity) p-value: 0.0000 → Stationary\n",
            " - Ljung-Box (White Noise) p-value: 0.5905 → White noise\n",
            " - Shapiro-Wilk Normality p-value: 0.0000 → Not normal\n",
            " - Jarque-Bera Normality p-value: 0.0000 → Not normal\n",
            "\n",
            "📈 BA\n",
            " - ADF (Stationarity) p-value: 0.0000 → Stationary\n",
            " - Ljung-Box (White Noise) p-value: 0.0770 → White noise\n",
            " - Shapiro-Wilk Normality p-value: 0.0000 → Not normal\n",
            " - Jarque-Bera Normality p-value: 0.0000 → Not normal\n",
            "\n",
            "📈 ^DJI\n",
            " - ADF (Stationarity) p-value: 0.0000 → Stationary\n",
            " - Ljung-Box (White Noise) p-value: 0.0651 → White noise\n",
            " - Shapiro-Wilk Normality p-value: 0.0000 → Not normal\n",
            " - Jarque-Bera Normality p-value: 0.0000 → Not normal\n"
          ]
        }
      ]
    },
    {
      "cell_type": "code",
      "source": [
        "import matplotlib.pyplot as plt\n",
        "from statsmodels.graphics.tsaplots import plot_acf, plot_pacf\n",
        "\n",
        "def plot_acf_pacf(series, lags=30, title=\"\"):\n",
        "    # Differencing if needed\n",
        "    diff_series = series.diff().dropna()\n",
        "\n",
        "    # Create plots\n",
        "    fig, axes = plt.subplots(1, 2, figsize=(14, 4))\n",
        "    fig.suptitle(f'ACF & PACF for {title}', fontsize=16)\n",
        "\n",
        "    # Plot ACF\n",
        "    plot_acf(diff_series, ax=axes[0], lags=lags)\n",
        "    axes[0].set_title(\"ACF (for MA order)\")\n",
        "\n",
        "    # Plot PACF\n",
        "    plot_pacf(diff_series, ax=axes[1], lags=lags, method=\"ywm\")\n",
        "    axes[1].set_title(\"PACF (for AR order)\")\n",
        "\n",
        "    plt.tight_layout()\n",
        "    plt.show()\n"
      ],
      "metadata": {
        "id": "dCkxmPzdCPLa"
      },
      "execution_count": null,
      "outputs": []
    },
    {
      "cell_type": "code",
      "source": [
        "plot_acf_pacf(data['AAPL'], lags=30, title=\"AAPL Weekly Returns\")\n"
      ],
      "metadata": {
        "colab": {
          "base_uri": "https://localhost:8080/",
          "height": 333
        },
        "id": "0zqp_713C5Zf",
        "outputId": "e790c040-defe-4f0d-fed1-e92f185838b9"
      },
      "execution_count": null,
      "outputs": [
        {
          "output_type": "display_data",
          "data": {
            "text/plain": [
              "<Figure size 1400x400 with 2 Axes>"
            ],
            "image/png": "[encoded data removed]"
          },
          "metadata": {}
        }
      ]
    },
    {
      "cell_type": "markdown",
      "source": [
        "Although the ARIMA model should ideally be tuned individually for each time series using model selection criteria this test follows the approach used by Siami-Namini et al. (2018)\n"
      ],
      "metadata": {
        "id": "4e6cYlXbLvVm"
      }
    },
    {
      "cell_type": "code",
      "source": [
        "# ARIMA Forecast Function\n",
        "def forecast_arima(series):\n",
        "    series = pd.Series(series).dropna().astype('float64')\n",
        "    train_size = int(len(series) * 0.7)\n",
        "    train, test = series[:train_size], series[train_size:]\n",
        "\n",
        "    predictions = []\n",
        "    history = list(train)\n",
        "\n",
        "    for t in range(len(test)):\n",
        "        model = ARIMA(history, order=(5, 1, 0))\n",
        "        model_fit = model.fit()\n",
        "        yhat = model_fit.forecast()[0]\n",
        "        predictions.append(yhat)\n",
        "        history.append(test.iloc[t])\n",
        "\n",
        "    rmse = sqrt(mean_squared_error(test, predictions))\n",
        "    mae = mean_absolute_error(test, predictions)\n",
        "    mse = mean_squared_error(test, predictions)\n",
        "    return rmse, mae, mse\n"
      ],
      "metadata": {
        "id": "ry7UT_MEBrFh"
      },
      "execution_count": null,
      "outputs": []
    },
    {
      "cell_type": "code",
      "source": [
        "from sklearn.metrics import mean_squared_error, mean_absolute_error\n",
        "from sklearn.preprocessing import MinMaxScaler\n",
        "from tensorflow.keras.models import Sequential\n",
        "from tensorflow.keras.layers import LSTM, Dense, Dropout\n",
        "from tensorflow.keras.callbacks import EarlyStopping\n",
        "from math import sqrt\n",
        "import numpy as np\n",
        "\n",
        "def forecast_lstm(series):\n",
        "    # Reshape and scale\n",
        "    series = series.values.reshape(-1, 1)\n",
        "    scaler = MinMaxScaler()\n",
        "    data_scaled = scaler.fit_transform(series)\n",
        "\n",
        "    def create_dataset(dataset, look_back=20):\n",
        "        X, Y = [], []\n",
        "        for i in range(len(dataset) - look_back):\n",
        "            X.append(dataset[i:i + look_back, 0])\n",
        "            Y.append(dataset[i + look_back, 0])\n",
        "        return np.array(X), np.array(Y)\n",
        "\n",
        "    look_back = 20\n",
        "    train_size = int(len(data_scaled) * 0.8)\n",
        "    train, test = data_scaled[:train_size], data_scaled[train_size:]\n",
        "\n",
        "    X_train, y_train = create_dataset(train, look_back)\n",
        "    X_test, y_test = create_dataset(test, look_back)\n",
        "\n",
        "    # Reshape for LSTM input\n",
        "    X_train = X_train.reshape((X_train.shape[0], look_back, 1))\n",
        "    X_test = X_test.reshape((X_test.shape[0], look_back, 1))\n",
        "\n",
        "    # LSTM Model\n",
        "    model = Sequential()\n",
        "    model.add(LSTM(units=64, return_sequences=True, input_shape=(look_back, 1)))\n",
        "    model.add(Dropout(0.2))\n",
        "    model.add(LSTM(units=32))\n",
        "    model.add(Dropout(0.2))\n",
        "    model.add(Dense(1))\n",
        "\n",
        "    model.compile(loss='mean_squared_error', optimizer='adam')\n",
        "\n",
        "    # Early stopping to avoid overfitting\n",
        "    early_stop = EarlyStopping(monitor='loss', patience=5, restore_best_weights=True)\n",
        "\n",
        "    # Training\n",
        "    model.fit(X_train, y_train, epochs=50, batch_size=32, verbose=0, callbacks=[early_stop])\n",
        "\n",
        "    # Prediction and evaluation\n",
        "    y_pred = model.predict(X_test)\n",
        "    y_pred = scaler.inverse_transform(y_pred)\n",
        "    y_test_orig = scaler.inverse_transform(y_test.reshape(-1, 1))\n",
        "\n",
        "    rmse = sqrt(mean_squared_error(y_test_orig, y_pred))\n",
        "    mae = mean_absolute_error(y_test_orig, y_pred)\n",
        "    mse = mean_squared_error(y_test_orig, y_pred)\n",
        "\n",
        "    return rmse, mae, mse\n",
        "\n",
        "\n"
      ],
      "metadata": {
        "id": "iIgy1pmtBsVV"
      },
      "execution_count": null,
      "outputs": []
    },
    {
      "cell_type": "code",
      "source": [
        "from sklearn.preprocessing import MinMaxScaler\n",
        "from sklearn.metrics import mean_squared_error, mean_absolute_error\n",
        "from tensorflow.keras.models import Sequential\n",
        "from tensorflow.keras.layers import GRU, Dense, Dropout\n",
        "from tensorflow.keras.callbacks import EarlyStopping\n",
        "from math import sqrt\n",
        "import numpy as np\n",
        "\n",
        "def forecast_gru(series):\n",
        "    #  Preprocess the series\n",
        "    series = series.values.reshape(-1, 1)\n",
        "    scaler = MinMaxScaler()\n",
        "    data_scaled = scaler.fit_transform(series)\n",
        "\n",
        "    def create_dataset(dataset, look_back=20):\n",
        "        X, Y = [], []\n",
        "        for i in range(len(dataset) - look_back):\n",
        "            X.append(dataset[i:(i + look_back), 0])\n",
        "            Y.append(dataset[i + look_back, 0])\n",
        "        return np.array(X), np.array(Y)\n",
        "\n",
        "    # Split and prepare data\n",
        "    look_back = 20\n",
        "    train_size = int(len(data_scaled) * 0.8)\n",
        "    train, test = data_scaled[:train_size], data_scaled[train_size:]\n",
        "\n",
        "    X_train, y_train = create_dataset(train, look_back)\n",
        "    X_test, y_test = create_dataset(test, look_back)\n",
        "\n",
        "    X_train = X_train.reshape((X_train.shape[0], look_back, 1))\n",
        "    X_test = X_test.reshape((X_test.shape[0], look_back, 1))\n",
        "\n",
        "    # GRU model\n",
        "    model = Sequential()\n",
        "    model.add(GRU(units=64, return_sequences=True, input_shape=(look_back, 1)))\n",
        "    model.add(Dropout(0.2))\n",
        "    model.add(GRU(units=32))\n",
        "    model.add(Dropout(0.2))\n",
        "    model.add(Dense(1))\n",
        "\n",
        "    model.compile(loss='mean_squared_error', optimizer='adam')\n",
        "\n",
        "    # 4. Train with early stopping\n",
        "    early_stop = EarlyStopping(monitor='loss', patience=5, restore_best_weights=True)\n",
        "    model.fit(X_train, y_train, epochs=50, batch_size=32, verbose=0, callbacks=[early_stop])\n",
        "\n",
        "    # 5. Predict and evaluate\n",
        "    y_pred = model.predict(X_test)\n",
        "    y_pred = scaler.inverse_transform(y_pred)\n",
        "    y_test_orig = scaler.inverse_transform(y_test.reshape(-1, 1))\n",
        "\n",
        "    rmse = sqrt(mean_squared_error(y_test_orig, y_pred))\n",
        "    mae = mean_absolute_error(y_test_orig, y_pred)\n",
        "    mse = mean_squared_error(y_test_orig, y_pred)\n",
        "\n",
        "    return rmse, mae, mse\n",
        "\n"
      ],
      "metadata": {
        "id": "8RDTJ4TsBtyW"
      },
      "execution_count": null,
      "outputs": []
    },
    {
      "cell_type": "code",
      "source": [
        "warnings.filterwarnings(\"ignore\")\n",
        "\n",
        "# Comparison and Print RMSE with Percentage Reductions\n",
        "results = []\n",
        "\n",
        "for ticker in tickers:\n",
        "    print(f\"\\n✅ {ticker}:\")\n",
        "\n",
        "    try:\n",
        "        series = data[ticker].squeeze()\n",
        "\n",
        "        rmse_arima, _, _ = forecast_arima(series)\n",
        "        rmse_lstm, _, _ = forecast_lstm(series)\n",
        "        rmse_gru, _, _ = forecast_gru(series)\n",
        "\n",
        "        # Calculate % reduction\n",
        "        red_lstm = 100 * (rmse_arima - rmse_lstm) / rmse_arima\n",
        "        red_gru = 100 * (rmse_arima - rmse_gru) / rmse_arima\n",
        "\n",
        "        # Save results if needed\n",
        "        results.append((ticker, rmse_arima, rmse_lstm, red_lstm, rmse_gru, red_gru))\n",
        "\n",
        "        # Print example\n",
        "        print(f\"ARIMA → RMSE={rmse_arima:.6f}\")\n",
        "        print(f\"LSTM  → RMSE={rmse_lstm:.6f}, Reduction vs ARIMA = {red_lstm:.2f}%\")\n",
        "        print(f\"GRU   → RMSE={rmse_gru:.6f}, Reduction vs ARIMA = {red_gru:.2f}%\")\n",
        "\n",
        "    except Exception as e:\n",
        "        print(f\"❌ Error with {ticker}: {e}\")\n",
        "\n",
        "\n"
      ],
      "metadata": {
        "id": "OB03JoNBBvLg",
        "colab": {
          "base_uri": "https://localhost:8080/"
        },
        "outputId": "ceb3d38d-cbc7-4e84-d96b-a6a0bed5574d"
      },
      "execution_count": null,
      "outputs": [
        {
          "output_type": "stream",
          "name": "stdout",
          "text": [
            "\n",
            "✅ AAPL:\n",
            "\u001b[1m3/3\u001b[0m \u001b[32m━━━━━━━━━━━━━━━━━━━━\u001b[0m\u001b[37m\u001b[0m \u001b[1m1s\u001b[0m 159ms/step\n",
            "\u001b[1m3/3\u001b[0m \u001b[32m━━━━━━━━━━━━━━━━━━━━\u001b[0m\u001b[37m\u001b[0m \u001b[1m1s\u001b[0m 202ms/step\n",
            "ARIMA → RMSE=0.040814\n",
            "LSTM  → RMSE=0.031198, Reduction vs ARIMA = 23.56%\n",
            "GRU   → RMSE=0.031034, Reduction vs ARIMA = 23.96%\n",
            "\n",
            "✅ JNJ:\n",
            "\u001b[1m3/3\u001b[0m \u001b[32m━━━━━━━━━━━━━━━━━━━━\u001b[0m\u001b[37m\u001b[0m \u001b[1m1s\u001b[0m 156ms/step\n",
            "\u001b[1m3/3\u001b[0m \u001b[32m━━━━━━━━━━━━━━━━━━━━\u001b[0m\u001b[37m\u001b[0m \u001b[1m1s\u001b[0m 188ms/step\n",
            "ARIMA → RMSE=0.023166\n",
            "LSTM  → RMSE=0.022407, Reduction vs ARIMA = 3.28%\n",
            "GRU   → RMSE=0.022607, Reduction vs ARIMA = 2.41%\n",
            "\n",
            "✅ JPM:\n",
            "\u001b[1m3/3\u001b[0m \u001b[32m━━━━━━━━━━━━━━━━━━━━\u001b[0m\u001b[37m\u001b[0m \u001b[1m1s\u001b[0m 163ms/step\n",
            "\u001b[1m3/3\u001b[0m \u001b[32m━━━━━━━━━━━━━━━━━━━━\u001b[0m\u001b[37m\u001b[0m \u001b[1m1s\u001b[0m 185ms/step\n",
            "ARIMA → RMSE=0.039609\n",
            "LSTM  → RMSE=0.029820, Reduction vs ARIMA = 24.71%\n",
            "GRU   → RMSE=0.030582, Reduction vs ARIMA = 22.79%\n",
            "\n",
            "✅ BA:\n",
            "\u001b[1m3/3\u001b[0m \u001b[32m━━━━━━━━━━━━━━━━━━━━\u001b[0m\u001b[37m\u001b[0m \u001b[1m1s\u001b[0m 153ms/step\n",
            "\u001b[1m3/3\u001b[0m \u001b[32m━━━━━━━━━━━━━━━━━━━━\u001b[0m\u001b[37m\u001b[0m \u001b[1m1s\u001b[0m 190ms/step\n",
            "ARIMA → RMSE=0.054879\n",
            "LSTM  → RMSE=0.053274, Reduction vs ARIMA = 2.92%\n",
            "GRU   → RMSE=0.047575, Reduction vs ARIMA = 13.31%\n",
            "\n",
            "✅ ^DJI:\n",
            "\u001b[1m3/3\u001b[0m \u001b[32m━━━━━━━━━━━━━━━━━━━━\u001b[0m\u001b[37m\u001b[0m \u001b[1m1s\u001b[0m 227ms/step\n",
            "\u001b[1m3/3\u001b[0m \u001b[32m━━━━━━━━━━━━━━━━━━━━\u001b[0m\u001b[37m\u001b[0m \u001b[1m1s\u001b[0m 197ms/step\n",
            "ARIMA → RMSE=0.024059\n",
            "LSTM  → RMSE=0.017748, Reduction vs ARIMA = 26.23%\n",
            "GRU   → RMSE=0.017862, Reduction vs ARIMA = 25.76%\n"
          ]
        }
      ]
    },
    {
      "cell_type": "markdown",
      "source": [
        "# Monthly"
      ],
      "metadata": {
        "id": "GMkwUz0EFjwu"
      }
    },
    {
      "cell_type": "code",
      "source": [
        "import yfinance as yf\n",
        "import statsmodels.api as sm\n",
        "import numpy as np\n",
        "import pandas as pd\n",
        "from statsmodels.tsa.stattools import adfuller\n",
        "from statsmodels.stats.diagnostic import acorr_ljungbox\n",
        "from scipy.stats import shapiro, jarque_bera\n",
        "import warnings\n",
        "warnings.filterwarnings(\"ignore\")\n",
        "\n",
        "# --- Load Monthly Data ---\n",
        "tickers = ['AAPL', 'JNJ', 'JPM', 'BA', '^DJI']\n",
        "start_date = '2015-01-01'\n",
        "end_date = '2025-01-01'\n",
        "\n",
        "def load_data(ticker):\n",
        "    df = yf.download(ticker, start=start_date, end=end_date, interval='1mo')\n",
        "    returns = np.log(df['Close']).diff().dropna()\n",
        "    return returns\n",
        "\n",
        "data = {ticker: load_data(ticker) for ticker in tickers}\n",
        "\n",
        "# --- Diagnostic Tests ---\n",
        "for ticker, series in data.items():\n",
        "    print(f\"\\n📈 {ticker}\")\n",
        "\n",
        "    # Linearity check\n",
        "    X = sm.add_constant(series.shift(1).dropna())\n",
        "    y = series[1:]\n",
        "    model = sm.OLS(y, X).fit()\n",
        "    residuals = model.resid\n",
        "\n",
        "    # Stationarity (ADF test)\n",
        "    adf_pvalue = adfuller(series)[1]\n",
        "\n",
        "    # White noise (Ljung-Box on residuals)\n",
        "    lb_pvalue = acorr_ljungbox(residuals, lags=[10], return_df=True)['lb_pvalue'].iloc[0]\n",
        "\n",
        "    # Normality\n",
        "    shapiro_p = shapiro(residuals)[1]\n",
        "    jb_p = jarque_bera(residuals)[1]\n",
        "\n",
        "    # Print results\n",
        "    print(f\" - ADF (Stationarity) p-value: {adf_pvalue:.4f} → {'Stationary' if adf_pvalue < 0.05 else 'Non-stationary'}\")\n",
        "    print(f\" - Ljung-Box (White Noise) p-value: {lb_pvalue:.4f} → {'White noise' if lb_pvalue > 0.05 else 'Not white noise'}\")\n",
        "    print(f\" - Shapiro-Wilk Normality p-value: {shapiro_p:.4f} → {'Normal' if shapiro_p > 0.05 else 'Not normal'}\")\n",
        "    print(f\" - Jarque-Bera Normality p-value: {jb_p:.4f} → {'Normal' if jb_p > 0.05 else 'Not normal'}\")\n"
      ],
      "metadata": {
        "id": "ii4ZyouGFkep",
        "colab": {
          "base_uri": "https://localhost:8080/"
        },
        "outputId": "9f470295-6ee5-4a28-dd2e-f6565e5d46be"
      },
      "execution_count": null,
      "outputs": [
        {
          "output_type": "stream",
          "name": "stderr",
          "text": [
            "[*********************100%***********************]  1 of 1 completed\n",
            "[*********************100%***********************]  1 of 1 completed\n",
            "[*********************100%***********************]  1 of 1 completed\n",
            "[*********************100%***********************]  1 of 1 completed\n",
            "[*********************100%***********************]  1 of 1 completed"
          ]
        },
        {
          "output_type": "stream",
          "name": "stdout",
          "text": [
            "\n",
            "📈 AAPL\n",
            " - ADF (Stationarity) p-value: 0.0000 → Stationary\n",
            " - Ljung-Box (White Noise) p-value: 0.7277 → White noise\n",
            " - Shapiro-Wilk Normality p-value: 0.8023 → Normal\n",
            " - Jarque-Bera Normality p-value: 0.5671 → Normal\n",
            "\n",
            "📈 JNJ\n",
            " - ADF (Stationarity) p-value: 0.0000 → Stationary\n",
            " - Ljung-Box (White Noise) p-value: 0.0099 → Not white noise\n",
            " - Shapiro-Wilk Normality p-value: 0.8533 → Normal\n",
            " - Jarque-Bera Normality p-value: 0.9786 → Normal\n",
            "\n",
            "📈 JPM\n",
            " - ADF (Stationarity) p-value: 0.0000 → Stationary\n",
            " - Ljung-Box (White Noise) p-value: 0.3397 → White noise\n",
            " - Shapiro-Wilk Normality p-value: 0.1856 → Normal\n",
            " - Jarque-Bera Normality p-value: 0.0770 → Normal\n",
            "\n",
            "📈 BA\n",
            " - ADF (Stationarity) p-value: 0.0000 → Stationary\n",
            " - Ljung-Box (White Noise) p-value: 0.2438 → White noise\n",
            " - Shapiro-Wilk Normality p-value: 0.0005 → Not normal\n",
            " - Jarque-Bera Normality p-value: 0.0000 → Not normal\n",
            "\n",
            "📈 ^DJI\n",
            " - ADF (Stationarity) p-value: 0.0000 → Stationary\n",
            " - Ljung-Box (White Noise) p-value: 0.4311 → White noise\n",
            " - Shapiro-Wilk Normality p-value: 0.1555 → Normal\n",
            " - Jarque-Bera Normality p-value: 0.0124 → Not normal\n"
          ]
        },
        {
          "output_type": "stream",
          "name": "stderr",
          "text": [
            "\n"
          ]
        }
      ]
    },
    {
      "cell_type": "code",
      "source": [
        "import matplotlib.pyplot as plt\n",
        "from statsmodels.graphics.tsaplots import plot_acf, plot_pacf\n",
        "\n",
        "def plot_acf_pacf(series, lags=30, title=\"\"):\n",
        "    # Differencing if needed\n",
        "    diff_series = series.diff().dropna()\n",
        "\n",
        "    # Create plots\n",
        "    fig, axes = plt.subplots(1, 2, figsize=(14, 4))\n",
        "    fig.suptitle(f'ACF & PACF for {title}', fontsize=16)\n",
        "\n",
        "    # Plot ACF\n",
        "    plot_acf(diff_series, ax=axes[0], lags=lags)\n",
        "    axes[0].set_title(\"ACF (for MA order)\")\n",
        "\n",
        "    # Plot PACF\n",
        "    plot_pacf(diff_series, ax=axes[1], lags=lags, method=\"ywm\")\n",
        "    axes[1].set_title(\"PACF (for AR order)\")\n",
        "\n",
        "    plt.tight_layout()\n",
        "    plt.show()"
      ],
      "metadata": {
        "id": "MJUKNhS1IAOO"
      },
      "execution_count": null,
      "outputs": []
    },
    {
      "cell_type": "code",
      "source": [
        "    plot_acf_pacf(data['AAPL'], lags=30, title=\"AAPL Monthly Returns\")\n"
      ],
      "metadata": {
        "colab": {
          "base_uri": "https://localhost:8080/",
          "height": 333
        },
        "id": "JQRMQfS0IBiv",
        "outputId": "955a4ada-7e88-4bc4-cf8e-94dd391b8da3"
      },
      "execution_count": null,
      "outputs": [
        {
          "output_type": "display_data",
          "data": {
            "text/plain": [
              "<Figure size 1400x400 with 2 Axes>"
            ],
            "image/png": "[encoded data removed]"
          },
          "metadata": {}
        }
      ]
    },
    {
      "cell_type": "code",
      "source": [
        "# ARIMA Forecast Function\n",
        "def forecast_arima(series):\n",
        "    series = pd.Series(series).dropna().astype('float64')\n",
        "    train_size = int(len(series) * 0.7)\n",
        "    train, test = series[:train_size], series[train_size:]\n",
        "\n",
        "    predictions = []\n",
        "    history = list(train)\n",
        "\n",
        "    for t in range(len(test)):\n",
        "        model = ARIMA(history, order=(5, 1, 0))\n",
        "        model_fit = model.fit()\n",
        "        yhat = model_fit.forecast()[0]\n",
        "        predictions.append(yhat)\n",
        "        history.append(test.iloc[t])\n",
        "\n",
        "    rmse = sqrt(mean_squared_error(test, predictions))\n",
        "    mae = mean_absolute_error(test, predictions)\n",
        "    mse = mean_squared_error(test, predictions)\n",
        "    return rmse, mae, mse"
      ],
      "metadata": {
        "id": "Bfk0NJ39GEkB"
      },
      "execution_count": null,
      "outputs": []
    },
    {
      "cell_type": "code",
      "source": [
        "from sklearn.metrics import mean_squared_error, mean_absolute_error\n",
        "from sklearn.preprocessing import MinMaxScaler\n",
        "from tensorflow.keras.models import Sequential\n",
        "from tensorflow.keras.layers import LSTM, Dense, Dropout\n",
        "from tensorflow.keras.callbacks import EarlyStopping\n",
        "from math import sqrt\n",
        "import numpy as np\n",
        "\n",
        "def forecast_lstm(series):\n",
        "    # Reshape and scale\n",
        "    series = series.values.reshape(-1, 1)\n",
        "    scaler = MinMaxScaler()\n",
        "    data_scaled = scaler.fit_transform(series)\n",
        "\n",
        "    def create_dataset(dataset, look_back=20):\n",
        "        X, Y = [], []\n",
        "        for i in range(len(dataset) - look_back):\n",
        "            X.append(dataset[i:i + look_back, 0])\n",
        "            Y.append(dataset[i + look_back, 0])\n",
        "        return np.array(X), np.array(Y)\n",
        "\n",
        "    look_back = 20\n",
        "    train_size = int(len(data_scaled) * 0.8)\n",
        "    train, test = data_scaled[:train_size], data_scaled[train_size:]\n",
        "\n",
        "    X_train, y_train = create_dataset(train, look_back)\n",
        "    X_test, y_test = create_dataset(test, look_back)\n",
        "\n",
        "    # Reshape for LSTM input\n",
        "    X_train = X_train.reshape((X_train.shape[0], look_back, 1))\n",
        "    X_test = X_test.reshape((X_test.shape[0], look_back, 1))\n",
        "\n",
        "    # Model architecture\n",
        "    model = Sequential()\n",
        "    model.add(LSTM(units=64, return_sequences=True, input_shape=(look_back, 1)))\n",
        "    model.add(Dropout(0.2))\n",
        "    model.add(LSTM(units=32))\n",
        "    model.add(Dropout(0.2))\n",
        "    model.add(Dense(1))\n",
        "\n",
        "    model.compile(loss='mean_squared_error', optimizer='adam')\n",
        "\n",
        "    # Early stopping to avoid overfitting\n",
        "    early_stop = EarlyStopping(monitor='loss', patience=5, restore_best_weights=True)\n",
        "\n",
        "    # Training\n",
        "    model.fit(X_train, y_train, epochs=50, batch_size=32, verbose=0, callbacks=[early_stop])\n",
        "\n",
        "    # Prediction and evaluation\n",
        "    y_pred = model.predict(X_test)\n",
        "    y_pred = scaler.inverse_transform(y_pred)\n",
        "    y_test_orig = scaler.inverse_transform(y_test.reshape(-1, 1))\n",
        "\n",
        "    rmse = sqrt(mean_squared_error(y_test_orig, y_pred))\n",
        "    mae = mean_absolute_error(y_test_orig, y_pred)\n",
        "    mse = mean_squared_error(y_test_orig, y_pred)\n",
        "\n",
        "    return rmse, mae, mse\n",
        "\n",
        "\n"
      ],
      "metadata": {
        "id": "-i0wCBliGHJE"
      },
      "execution_count": null,
      "outputs": []
    },
    {
      "cell_type": "code",
      "source": [
        "from sklearn.preprocessing import MinMaxScaler\n",
        "from sklearn.metrics import mean_squared_error, mean_absolute_error\n",
        "from tensorflow.keras.models import Sequential\n",
        "from tensorflow.keras.layers import GRU, Dense, Dropout\n",
        "from tensorflow.keras.callbacks import EarlyStopping\n",
        "from math import sqrt\n",
        "import numpy as np\n",
        "\n",
        "def forecast_gru(series):\n",
        "    # Preprocess the series\n",
        "    series = series.values.reshape(-1, 1)\n",
        "    scaler = MinMaxScaler()\n",
        "    data_scaled = scaler.fit_transform(series)\n",
        "\n",
        "    def create_dataset(dataset, look_back=20):\n",
        "        X, Y = [], []\n",
        "        for i in range(len(dataset) - look_back):\n",
        "            X.append(dataset[i:(i + look_back), 0])\n",
        "            Y.append(dataset[i + look_back, 0])\n",
        "        return np.array(X), np.array(Y)\n",
        "\n",
        "    # Split and prepare data\n",
        "    look_back = 20\n",
        "    train_size = int(len(data_scaled) * 0.8)\n",
        "    train, test = data_scaled[:train_size], data_scaled[train_size:]\n",
        "\n",
        "    X_train, y_train = create_dataset(train, look_back)\n",
        "    X_test, y_test = create_dataset(test, look_back)\n",
        "\n",
        "    X_train = X_train.reshape((X_train.shape[0], look_back, 1))\n",
        "    X_test = X_test.reshape((X_test.shape[0], look_back, 1))\n",
        "\n",
        "    # Build GRU model\n",
        "    model = Sequential()\n",
        "    model.add(GRU(units=64, return_sequences=True, input_shape=(look_back, 1)))\n",
        "    model.add(Dropout(0.2))\n",
        "    model.add(GRU(units=32))\n",
        "    model.add(Dropout(0.2))\n",
        "    model.add(Dense(1))\n",
        "\n",
        "    model.compile(loss='mean_squared_error', optimizer='adam')\n",
        "\n",
        "    # Train with early stopping\n",
        "    early_stop = EarlyStopping(monitor='loss', patience=5, restore_best_weights=True)\n",
        "    model.fit(X_train, y_train, epochs=50, batch_size=32, verbose=0, callbacks=[early_stop])\n",
        "\n",
        "    # Predict and evaluate\n",
        "    y_pred = model.predict(X_test)\n",
        "    y_pred = scaler.inverse_transform(y_pred)\n",
        "    y_test_orig = scaler.inverse_transform(y_test.reshape(-1, 1))\n",
        "\n",
        "    rmse = sqrt(mean_squared_error(y_test_orig, y_pred))\n",
        "    mae = mean_absolute_error(y_test_orig, y_pred)\n",
        "    mse = mean_squared_error(y_test_orig, y_pred)\n",
        "\n",
        "    return rmse, mae, mse\n"
      ],
      "metadata": {
        "id": "QxNUEGpTGJTT"
      },
      "execution_count": null,
      "outputs": []
    },
    {
      "cell_type": "code",
      "source": [
        "# Run Comparison and Print RMSE with Percentage Reductions\n",
        "results = []\n",
        "\n",
        "for ticker in tickers:\n",
        "    print(f\"\\n✅ {ticker}:\")\n",
        "\n",
        "    try:\n",
        "        series = data[ticker].squeeze()\n",
        "\n",
        "        rmse_arima, _, _ = forecast_arima(series)\n",
        "        rmse_lstm, _, _ = forecast_lstm(series)\n",
        "        rmse_gru, _, _ = forecast_gru(series)\n",
        "\n",
        "        # Calculate % reduction\n",
        "        red_lstm = 100 * (rmse_arima - rmse_lstm) / rmse_arima\n",
        "        red_gru = 100 * (rmse_arima - rmse_gru) / rmse_arima\n",
        "\n",
        "        # Save results if needed\n",
        "        results.append((ticker, rmse_arima, rmse_lstm, red_lstm, rmse_gru, red_gru))\n",
        "\n",
        "        # Print like example\n",
        "        print(f\"ARIMA → RMSE={rmse_arima:.6f}\")\n",
        "        print(f\"LSTM  → RMSE={rmse_lstm:.6f}, Reduction vs ARIMA = {red_lstm:.2f}%\")\n",
        "        print(f\"GRU   → RMSE={rmse_gru:.6f}, Reduction vs ARIMA = {red_gru:.2f}%\")\n",
        "\n",
        "    except Exception as e:\n",
        "        print(f\"❌ Error with {ticker}: {e}\")\n",
        "\n"
      ],
      "metadata": {
        "id": "zMz-zbLfGLNt",
        "colab": {
          "base_uri": "https://localhost:8080/"
        },
        "outputId": "82547466-8733-4307-d4ad-579dd4e0b8c4"
      },
      "execution_count": null,
      "outputs": [
        {
          "output_type": "stream",
          "name": "stdout",
          "text": [
            "\n",
            "✅ AAPL:\n",
            "\u001b[1m1/1\u001b[0m \u001b[32m━━━━━━━━━━━━━━━━━━━━\u001b[0m\u001b[37m\u001b[0m \u001b[1m0s\u001b[0m 292ms/step\n",
            "\u001b[1m1/1\u001b[0m \u001b[32m━━━━━━━━━━━━━━━━━━━━\u001b[0m\u001b[37m\u001b[0m \u001b[1m0s\u001b[0m 357ms/step\n",
            "ARIMA → RMSE=0.086122\n",
            "LSTM  → RMSE=0.034571, Reduction vs ARIMA = 59.86%\n",
            "GRU   → RMSE=0.039259, Reduction vs ARIMA = 54.41%\n",
            "\n",
            "✅ JNJ:\n",
            "\u001b[1m1/1\u001b[0m \u001b[32m━━━━━━━━━━━━━━━━━━━━\u001b[0m\u001b[37m\u001b[0m \u001b[1m0s\u001b[0m 305ms/step\n",
            "\u001b[1m1/1\u001b[0m \u001b[32m━━━━━━━━━━━━━━━━━━━━\u001b[0m\u001b[37m\u001b[0m \u001b[1m0s\u001b[0m 368ms/step\n",
            "ARIMA → RMSE=0.053836\n",
            "LSTM  → RMSE=0.048776, Reduction vs ARIMA = 9.40%\n",
            "GRU   → RMSE=0.031957, Reduction vs ARIMA = 40.64%\n",
            "\n",
            "✅ JPM:\n",
            "\u001b[1m1/1\u001b[0m \u001b[32m━━━━━━━━━━━━━━━━━━━━\u001b[0m\u001b[37m\u001b[0m \u001b[1m0s\u001b[0m 290ms/step\n",
            "\u001b[1m1/1\u001b[0m \u001b[32m━━━━━━━━━━━━━━━━━━━━\u001b[0m\u001b[37m\u001b[0m \u001b[1m0s\u001b[0m 386ms/step\n",
            "ARIMA → RMSE=0.082389\n",
            "LSTM  → RMSE=0.079125, Reduction vs ARIMA = 3.96%\n",
            "GRU   → RMSE=0.099453, Reduction vs ARIMA = -20.71%\n",
            "\n",
            "✅ BA:\n",
            "\u001b[1m1/1\u001b[0m \u001b[32m━━━━━━━━━━━━━━━━━━━━\u001b[0m\u001b[37m\u001b[0m \u001b[1m0s\u001b[0m 311ms/step\n",
            "\u001b[1m1/1\u001b[0m \u001b[32m━━━━━━━━━━━━━━━━━━━━\u001b[0m\u001b[37m\u001b[0m \u001b[1m0s\u001b[0m 365ms/step\n",
            "ARIMA → RMSE=0.122724\n",
            "LSTM  → RMSE=0.101791, Reduction vs ARIMA = 17.06%\n",
            "GRU   → RMSE=0.103416, Reduction vs ARIMA = 15.73%\n",
            "\n",
            "✅ ^DJI:\n",
            "\u001b[1m1/1\u001b[0m \u001b[32m━━━━━━━━━━━━━━━━━━━━\u001b[0m\u001b[37m\u001b[0m \u001b[1m0s\u001b[0m 299ms/step\n",
            "\u001b[1m1/1\u001b[0m \u001b[32m━━━━━━━━━━━━━━━━━━━━\u001b[0m\u001b[37m\u001b[0m \u001b[1m0s\u001b[0m 372ms/step\n",
            "ARIMA → RMSE=0.052229\n",
            "LSTM  → RMSE=0.047770, Reduction vs ARIMA = 8.54%\n",
            "GRU   → RMSE=0.049478, Reduction vs ARIMA = 5.27%\n"
          ]
        }
      ]
    },
    {
      "cell_type": "markdown",
      "source": [
        "While it is generally shown in the literature and the tests here, that LSTM and GRU models outperform traditional ARIMA models in time series forecasting, a more in-depth analysis would require selecting the optimal ARIMA parameters for each series individually. In this test, a fixed ARIMA(5,1,0) model is used for simplicity and to maintain consistency with the approach by Siami-Namini et al. (2018).\n"
      ],
      "metadata": {
        "id": "dGO3t9Q0MGwM"
      }
    }
  ],
  "metadata": {
    "colab": {
      "provenance": []
    },
    "kernelspec": {
      "display_name": "Python 3",
      "name": "python3"
    },
    "language_info": {
      "name": "python"
    }
  },
  "nbformat": 4,
  "nbformat_minor": 0
}